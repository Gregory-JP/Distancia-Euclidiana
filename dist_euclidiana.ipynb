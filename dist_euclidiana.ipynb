{
 "cells": [
  {
   "cell_type": "code",
   "execution_count": 1,
   "id": "f78e0fd6",
   "metadata": {},
   "outputs": [],
   "source": [
    "x = [5, 10, 9]\n",
    "y = [5, 1, 5]"
   ]
  },
  {
   "cell_type": "code",
   "execution_count": 98,
   "id": "8ab6ff8d",
   "metadata": {},
   "outputs": [],
   "source": [
    "def dist_euclidiana(x, y):\n",
    "    resultado = [(i - j) ** 2 for (i, j) in zip(x, y)]\n",
    "    resultado = sum(resultado)\n",
    "    resultado = resultado ** (1/2)\n",
    "    return float(f'{resultado:.2f}')"
   ]
  },
  {
   "cell_type": "code",
   "execution_count": 99,
   "id": "0e8466bb",
   "metadata": {},
   "outputs": [
    {
     "data": {
      "text/plain": [
       "9.85"
      ]
     },
     "execution_count": 99,
     "metadata": {},
     "output_type": "execute_result"
    }
   ],
   "source": [
    "dist_euclidiana(x, y)"
   ]
  },
  {
   "cell_type": "code",
   "execution_count": 79,
   "id": "9e84469f",
   "metadata": {},
   "outputs": [],
   "source": [
    "p = [0.8, 0.1, 0.5, 0]\n",
    "i = [0.6, 0, 0.3, 0]"
   ]
  },
  {
   "cell_type": "code",
   "execution_count": 100,
   "id": "05063ca4",
   "metadata": {},
   "outputs": [
    {
     "data": {
      "text/plain": [
       "0.3"
      ]
     },
     "execution_count": 100,
     "metadata": {},
     "output_type": "execute_result"
    }
   ],
   "source": [
    "dist_euclidiana(p, i)"
   ]
  },
  {
   "cell_type": "code",
   "execution_count": 81,
   "id": "0e183552",
   "metadata": {},
   "outputs": [],
   "source": [
    "p1 = [0.8, 0.1, 0.5, 0]\n",
    "f = [0.9, 0, 0.5, 0.1]"
   ]
  },
  {
   "cell_type": "code",
   "execution_count": 101,
   "id": "edad58ef",
   "metadata": {},
   "outputs": [
    {
     "data": {
      "text/plain": [
       "0.17"
      ]
     },
     "execution_count": 101,
     "metadata": {},
     "output_type": "execute_result"
    }
   ],
   "source": [
    "dist_euclidiana(p1, f)"
   ]
  },
  {
   "cell_type": "code",
   "execution_count": 88,
   "id": "b5872409",
   "metadata": {},
   "outputs": [],
   "source": [
    "p2 = [0.8, 0.1, 0.5, 0.0]\n",
    "p3 = [0.1, 0.2, 0.1, 0.9]"
   ]
  },
  {
   "cell_type": "code",
   "execution_count": 102,
   "id": "884db27d",
   "metadata": {},
   "outputs": [
    {
     "data": {
      "text/plain": [
       "1.21"
      ]
     },
     "execution_count": 102,
     "metadata": {},
     "output_type": "execute_result"
    }
   ],
   "source": [
    "dist_euclidiana(p2, p3)"
   ]
  },
  {
   "cell_type": "code",
   "execution_count": null,
   "id": "70ddcb68",
   "metadata": {},
   "outputs": [],
   "source": []
  }
 ],
 "metadata": {
  "kernelspec": {
   "display_name": "Python 3 (ipykernel)",
   "language": "python",
   "name": "python3"
  },
  "language_info": {
   "codemirror_mode": {
    "name": "ipython",
    "version": 3
   },
   "file_extension": ".py",
   "mimetype": "text/x-python",
   "name": "python",
   "nbconvert_exporter": "python",
   "pygments_lexer": "ipython3",
   "version": "3.9.7"
  }
 },
 "nbformat": 4,
 "nbformat_minor": 5
}
